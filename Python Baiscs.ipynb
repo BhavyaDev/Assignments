{
 "cells": [
  {
   "cell_type": "code",
   "execution_count": 1,
   "id": "e9a5bdcc-da25-41e3-8d05-5e39968ab440",
   "metadata": {},
   "outputs": [
    {
     "data": {
      "text/plain": [
       "2"
      ]
     },
     "execution_count": 1,
     "metadata": {},
     "output_type": "execute_result"
    }
   ],
   "source": [
    "1+1"
   ]
  },
  {
   "cell_type": "code",
   "execution_count": 2,
   "id": "dc86dc35-72b5-43a5-8cf5-7177451600d5",
   "metadata": {},
   "outputs": [
    {
     "data": {
      "text/plain": [
       "30"
      ]
     },
     "execution_count": 2,
     "metadata": {},
     "output_type": "execute_result"
    }
   ],
   "source": [
    "5*6"
   ]
  },
  {
   "cell_type": "code",
   "execution_count": 3,
   "id": "857793b0-06aa-4ba3-9b05-7689cd089eb5",
   "metadata": {},
   "outputs": [
    {
     "data": {
      "text/plain": [
       "25"
      ]
     },
     "execution_count": 3,
     "metadata": {},
     "output_type": "execute_result"
    }
   ],
   "source": [
    "5*5"
   ]
  },
  {
   "cell_type": "code",
   "execution_count": 4,
   "id": "f286d82a-cdc1-489b-9ac9-d049d94c076c",
   "metadata": {},
   "outputs": [],
   "source": [
    "a=35"
   ]
  },
  {
   "cell_type": "code",
   "execution_count": 5,
   "id": "294484de-7108-4f55-8360-1c6a8a67e526",
   "metadata": {},
   "outputs": [
    {
     "data": {
      "text/plain": [
       "int"
      ]
     },
     "execution_count": 5,
     "metadata": {},
     "output_type": "execute_result"
    }
   ],
   "source": [
    "type(a)"
   ]
  },
  {
   "cell_type": "code",
   "execution_count": 7,
   "id": "280597ed-6f8b-4d2e-9aab-751f86129235",
   "metadata": {},
   "outputs": [],
   "source": [
    "b=2.09"
   ]
  },
  {
   "cell_type": "code",
   "execution_count": 8,
   "id": "824fd884-e472-4e9e-9f46-8d29a64a450f",
   "metadata": {},
   "outputs": [
    {
     "data": {
      "text/plain": [
       "float"
      ]
     },
     "execution_count": 8,
     "metadata": {},
     "output_type": "execute_result"
    }
   ],
   "source": [
    "type(b)"
   ]
  },
  {
   "cell_type": "code",
   "execution_count": 9,
   "id": "973cc00e-5b68-484e-b052-d99925b953ca",
   "metadata": {},
   "outputs": [],
   "source": [
    "c=\"Bhavya\""
   ]
  },
  {
   "cell_type": "code",
   "execution_count": 10,
   "id": "f57994c0-3bc8-4c20-ad6f-de3d9a395713",
   "metadata": {},
   "outputs": [
    {
     "data": {
      "text/plain": [
       "str"
      ]
     },
     "execution_count": 10,
     "metadata": {},
     "output_type": "execute_result"
    }
   ],
   "source": [
    "type(c)"
   ]
  },
  {
   "cell_type": "code",
   "execution_count": 11,
   "id": "d95d6293-201a-40b8-b2a5-24bad8d64648",
   "metadata": {},
   "outputs": [],
   "source": [
    "n= True"
   ]
  },
  {
   "cell_type": "code",
   "execution_count": 12,
   "id": "556db565-e57d-4b13-a043-13f7f64d504d",
   "metadata": {},
   "outputs": [
    {
     "data": {
      "text/plain": [
       "bool"
      ]
     },
     "execution_count": 12,
     "metadata": {},
     "output_type": "execute_result"
    }
   ],
   "source": [
    "type(n)"
   ]
  },
  {
   "cell_type": "code",
   "execution_count": 13,
   "id": "ba0c2f27-62bc-4c85-a26b-be4655a3c532",
   "metadata": {},
   "outputs": [],
   "source": [
    "m= False"
   ]
  },
  {
   "cell_type": "code",
   "execution_count": 14,
   "id": "e5265d45-fdff-4b2c-955f-3ad13ca333d8",
   "metadata": {},
   "outputs": [
    {
     "data": {
      "text/plain": [
       "1"
      ]
     },
     "execution_count": 14,
     "metadata": {},
     "output_type": "execute_result"
    }
   ],
   "source": [
    "n+m"
   ]
  },
  {
   "cell_type": "code",
   "execution_count": 15,
   "id": "86955635-d93d-4630-9237-29e2f65e4382",
   "metadata": {},
   "outputs": [
    {
     "data": {
      "text/plain": [
       "0"
      ]
     },
     "execution_count": 15,
     "metadata": {},
     "output_type": "execute_result"
    }
   ],
   "source": [
    "n*m"
   ]
  },
  {
   "cell_type": "code",
   "execution_count": 16,
   "id": "118bf220-c2db-460b-8202-7cbc39d1b911",
   "metadata": {},
   "outputs": [
    {
     "ename": "ZeroDivisionError",
     "evalue": "division by zero",
     "output_type": "error",
     "traceback": [
      "\u001b[0;31m---------------------------------------------------------------------------\u001b[0m",
      "\u001b[0;31mZeroDivisionError\u001b[0m                         Traceback (most recent call last)",
      "Cell \u001b[0;32mIn[16], line 1\u001b[0m\n\u001b[0;32m----> 1\u001b[0m \u001b[43mn\u001b[49m\u001b[38;5;241;43m/\u001b[39;49m\u001b[43mm\u001b[49m\n",
      "\u001b[0;31mZeroDivisionError\u001b[0m: division by zero"
     ]
    }
   ],
   "source": [
    "n/m"
   ]
  },
  {
   "cell_type": "code",
   "execution_count": 17,
   "id": "bd069594-3422-49ae-a8fc-17f266bbc4b1",
   "metadata": {},
   "outputs": [],
   "source": [
    "v= 5+8j"
   ]
  },
  {
   "cell_type": "code",
   "execution_count": 18,
   "id": "e3a8a9f9-de3d-4f3b-8961-8a9959c992ab",
   "metadata": {},
   "outputs": [
    {
     "data": {
      "text/plain": [
       "complex"
      ]
     },
     "execution_count": 18,
     "metadata": {},
     "output_type": "execute_result"
    }
   ],
   "source": [
    "type(v)"
   ]
  },
  {
   "cell_type": "code",
   "execution_count": 19,
   "id": "0bccde7e-7a38-45b5-8dc2-daf96476cde3",
   "metadata": {},
   "outputs": [
    {
     "data": {
      "text/plain": [
       "5.0"
      ]
     },
     "execution_count": 19,
     "metadata": {},
     "output_type": "execute_result"
    }
   ],
   "source": [
    "v.real"
   ]
  },
  {
   "cell_type": "code",
   "execution_count": 20,
   "id": "558a1442-fab0-4a48-aea3-0c9600e407c7",
   "metadata": {},
   "outputs": [
    {
     "data": {
      "text/plain": [
       "8.0"
      ]
     },
     "execution_count": 20,
     "metadata": {},
     "output_type": "execute_result"
    }
   ],
   "source": [
    "v.imag"
   ]
  },
  {
   "cell_type": "code",
   "execution_count": 21,
   "id": "9404cb3b-874e-49fd-b000-bd6c0dd10bad",
   "metadata": {},
   "outputs": [
    {
     "data": {
      "text/plain": [
       "<function complex.conjugate()>"
      ]
     },
     "execution_count": 21,
     "metadata": {},
     "output_type": "execute_result"
    }
   ],
   "source": [
    "v.conjugate"
   ]
  },
  {
   "cell_type": "code",
   "execution_count": 22,
   "id": "2390c6fa-fbe4-4ee4-a717-c6850ee77c7e",
   "metadata": {},
   "outputs": [],
   "source": [
    "s=\"pwskills\""
   ]
  },
  {
   "cell_type": "code",
   "execution_count": 23,
   "id": "f40a9632-c245-4afd-9a6e-cc18e9a753df",
   "metadata": {},
   "outputs": [
    {
     "data": {
      "text/plain": [
       "str"
      ]
     },
     "execution_count": 23,
     "metadata": {},
     "output_type": "execute_result"
    }
   ],
   "source": [
    "type(s)"
   ]
  },
  {
   "cell_type": "code",
   "execution_count": 24,
   "id": "b921ce17-c256-4d19-bb2e-16b24045ecbf",
   "metadata": {},
   "outputs": [
    {
     "data": {
      "text/plain": [
       "'p'"
      ]
     },
     "execution_count": 24,
     "metadata": {},
     "output_type": "execute_result"
    }
   ],
   "source": [
    "s[0]"
   ]
  },
  {
   "cell_type": "code",
   "execution_count": 25,
   "id": "db7a261d-730f-4451-9fd3-9420fa59f17e",
   "metadata": {},
   "outputs": [
    {
     "data": {
      "text/plain": [
       "'pws'"
      ]
     },
     "execution_count": 25,
     "metadata": {},
     "output_type": "execute_result"
    }
   ],
   "source": [
    "s[0:3]"
   ]
  },
  {
   "cell_type": "code",
   "execution_count": 26,
   "id": "67fe28b5-75e5-4550-bee0-b7af7236d1a6",
   "metadata": {},
   "outputs": [
    {
     "data": {
      "text/plain": [
       "'pw'"
      ]
     },
     "execution_count": 26,
     "metadata": {},
     "output_type": "execute_result"
    }
   ],
   "source": [
    "s[0:2]"
   ]
  },
  {
   "cell_type": "code",
   "execution_count": 27,
   "id": "691bac80-ce57-458c-bd2e-a6c762683f92",
   "metadata": {},
   "outputs": [
    {
     "data": {
      "text/plain": [
       "'psil'"
      ]
     },
     "execution_count": 27,
     "metadata": {},
     "output_type": "execute_result"
    }
   ],
   "source": [
    "s[0:8:2]"
   ]
  },
  {
   "cell_type": "code",
   "execution_count": 28,
   "id": "759f2ef1-7d1c-478f-a205-a84b14290b9e",
   "metadata": {},
   "outputs": [
    {
     "data": {
      "text/plain": [
       "'psil'"
      ]
     },
     "execution_count": 28,
     "metadata": {},
     "output_type": "execute_result"
    }
   ],
   "source": [
    "s[::2]"
   ]
  },
  {
   "cell_type": "code",
   "execution_count": 29,
   "id": "dc11711a-79a2-4848-859e-07a6fea15a24",
   "metadata": {},
   "outputs": [
    {
     "data": {
      "text/plain": [
       "'sllikswp'"
      ]
     },
     "execution_count": 29,
     "metadata": {},
     "output_type": "execute_result"
    }
   ],
   "source": [
    "s[::-1]"
   ]
  },
  {
   "cell_type": "code",
   "execution_count": 30,
   "id": "dab38e65-a9d8-47c8-9003-983d21c7a217",
   "metadata": {},
   "outputs": [
    {
     "data": {
      "text/plain": [
       "''"
      ]
     },
     "execution_count": 30,
     "metadata": {},
     "output_type": "execute_result"
    }
   ],
   "source": [
    "s[2:7:-1]"
   ]
  },
  {
   "cell_type": "code",
   "execution_count": 31,
   "id": "b3916971-2df0-410c-af8b-515a0344b9b6",
   "metadata": {},
   "outputs": [
    {
     "data": {
      "text/plain": [
       "''"
      ]
     },
     "execution_count": 31,
     "metadata": {},
     "output_type": "execute_result"
    }
   ],
   "source": [
    "s[8:0]"
   ]
  },
  {
   "cell_type": "code",
   "execution_count": 32,
   "id": "e8f9d1d4-24e6-48f1-a626-deec2b9c1abd",
   "metadata": {},
   "outputs": [
    {
     "data": {
      "text/plain": [
       "''"
      ]
     },
     "execution_count": 32,
     "metadata": {},
     "output_type": "execute_result"
    }
   ],
   "source": [
    "s[-2:-8]"
   ]
  },
  {
   "cell_type": "code",
   "execution_count": 33,
   "id": "d0d7863d-31f7-4ed1-b89c-7585f3eae910",
   "metadata": {},
   "outputs": [
    {
     "data": {
      "text/plain": [
       "'sllikswp'"
      ]
     },
     "execution_count": 33,
     "metadata": {},
     "output_type": "execute_result"
    }
   ],
   "source": [
    "s[::-1]"
   ]
  },
  {
   "cell_type": "code",
   "execution_count": 34,
   "id": "49d9ac9a-63d4-4aae-8e80-f7cccc337235",
   "metadata": {},
   "outputs": [
    {
     "data": {
      "text/plain": [
       "'pwskills'"
      ]
     },
     "execution_count": 34,
     "metadata": {},
     "output_type": "execute_result"
    }
   ],
   "source": [
    "s[::]"
   ]
  },
  {
   "cell_type": "code",
   "execution_count": 35,
   "id": "d502aa35-0076-455f-98e4-450afd618906",
   "metadata": {},
   "outputs": [
    {
     "ename": "IndexError",
     "evalue": "string index out of range",
     "output_type": "error",
     "traceback": [
      "\u001b[0;31m---------------------------------------------------------------------------\u001b[0m",
      "\u001b[0;31mIndexError\u001b[0m                                Traceback (most recent call last)",
      "Cell \u001b[0;32mIn[35], line 1\u001b[0m\n\u001b[0;32m----> 1\u001b[0m \u001b[43ms\u001b[49m\u001b[43m[\u001b[49m\u001b[38;5;241;43m90\u001b[39;49m\u001b[43m]\u001b[49m\n",
      "\u001b[0;31mIndexError\u001b[0m: string index out of range"
     ]
    }
   ],
   "source": [
    "s[90]"
   ]
  },
  {
   "cell_type": "code",
   "execution_count": 36,
   "id": "9b139147-a072-4a99-b8f1-2331f60c2f71",
   "metadata": {},
   "outputs": [],
   "source": [
    "c=100"
   ]
  },
  {
   "cell_type": "code",
   "execution_count": 37,
   "id": "6feb96bb-c345-46c7-9214-882ebbcef37f",
   "metadata": {},
   "outputs": [],
   "source": [
    "s1= \"this is my string class\""
   ]
  },
  {
   "cell_type": "code",
   "execution_count": 39,
   "id": "d334d5a7-1b23-4a1f-bcc8-6b15d24dad6f",
   "metadata": {},
   "outputs": [
    {
     "data": {
      "text/plain": [
       "23"
      ]
     },
     "execution_count": 39,
     "metadata": {},
     "output_type": "execute_result"
    }
   ],
   "source": [
    "len(s1)"
   ]
  },
  {
   "cell_type": "code",
   "execution_count": 40,
   "id": "08387623-928f-4253-b5bf-4f8a43a329a2",
   "metadata": {},
   "outputs": [
    {
     "data": {
      "text/plain": [
       "3"
      ]
     },
     "execution_count": 40,
     "metadata": {},
     "output_type": "execute_result"
    }
   ],
   "source": [
    "s1.find(\"s\")"
   ]
  },
  {
   "cell_type": "code",
   "execution_count": 41,
   "id": "46b427fe-12da-4ff6-abc9-e69336e1eb11",
   "metadata": {},
   "outputs": [
    {
     "data": {
      "text/plain": [
       "-1"
      ]
     },
     "execution_count": 41,
     "metadata": {},
     "output_type": "execute_result"
    }
   ],
   "source": [
    "s1.find(\"IS\")"
   ]
  },
  {
   "cell_type": "code",
   "execution_count": 42,
   "id": "59892f4c-1529-4562-8d93-e790c388fc38",
   "metadata": {},
   "outputs": [
    {
     "data": {
      "text/plain": [
       "5"
      ]
     },
     "execution_count": 42,
     "metadata": {},
     "output_type": "execute_result"
    }
   ],
   "source": [
    "s1.count(\"s\")"
   ]
  },
  {
   "cell_type": "code",
   "execution_count": 44,
   "id": "f140be43-f60c-44eb-a4ec-52a9ddb958fe",
   "metadata": {},
   "outputs": [
    {
     "data": {
      "text/plain": [
       "'THIS IS MY STRING CLASS'"
      ]
     },
     "execution_count": 44,
     "metadata": {},
     "output_type": "execute_result"
    }
   ],
   "source": [
    "s1.upper()"
   ]
  },
  {
   "cell_type": "code",
   "execution_count": 45,
   "id": "85c29132-b691-4c84-92ce-a674ab848e2f",
   "metadata": {},
   "outputs": [
    {
     "data": {
      "text/plain": [
       "'this is my string class'"
      ]
     },
     "execution_count": 45,
     "metadata": {},
     "output_type": "execute_result"
    }
   ],
   "source": [
    "s1.lower()"
   ]
  },
  {
   "cell_type": "code",
   "execution_count": 46,
   "id": "3d7687ed-f862-4025-aeca-a4195a0437e3",
   "metadata": {},
   "outputs": [
    {
     "data": {
      "text/plain": [
       "'This Is My String Class'"
      ]
     },
     "execution_count": 46,
     "metadata": {},
     "output_type": "execute_result"
    }
   ],
   "source": [
    "s1.title()"
   ]
  },
  {
   "cell_type": "code",
   "execution_count": 47,
   "id": "e5a131ff-6eae-400c-b9dc-edd62d5ae940",
   "metadata": {},
   "outputs": [
    {
     "data": {
      "text/plain": [
       "'This is my string class'"
      ]
     },
     "execution_count": 47,
     "metadata": {},
     "output_type": "execute_result"
    }
   ],
   "source": [
    "s1.capitalize()"
   ]
  },
  {
   "cell_type": "code",
   "execution_count": 48,
   "id": "2fbae006-4cde-4eb7-8f97-16bab28d15ff",
   "metadata": {},
   "outputs": [
    {
     "data": {
      "text/plain": [
       "'pwskills'"
      ]
     },
     "execution_count": 48,
     "metadata": {},
     "output_type": "execute_result"
    }
   ],
   "source": [
    "s"
   ]
  },
  {
   "cell_type": "code",
   "execution_count": 49,
   "id": "0e29747e-0a4c-4621-8505-32fa6dae27f6",
   "metadata": {},
   "outputs": [
    {
     "ename": "TypeError",
     "evalue": "can only concatenate str (not \"int\") to str",
     "output_type": "error",
     "traceback": [
      "\u001b[0;31m---------------------------------------------------------------------------\u001b[0m",
      "\u001b[0;31mTypeError\u001b[0m                                 Traceback (most recent call last)",
      "Cell \u001b[0;32mIn[49], line 1\u001b[0m\n\u001b[0;32m----> 1\u001b[0m \u001b[43ms\u001b[49m\u001b[38;5;241;43m+\u001b[39;49m\u001b[38;5;241;43m1\u001b[39;49m\n",
      "\u001b[0;31mTypeError\u001b[0m: can only concatenate str (not \"int\") to str"
     ]
    }
   ],
   "source": [
    "s+1"
   ]
  },
  {
   "cell_type": "code",
   "execution_count": 50,
   "id": "d77686bb-dfc0-401b-8c35-cce135de0495",
   "metadata": {},
   "outputs": [
    {
     "data": {
      "text/plain": [
       "'pwskillsthis is my string class'"
      ]
     },
     "execution_count": 50,
     "metadata": {},
     "output_type": "execute_result"
    }
   ],
   "source": [
    "s+s1"
   ]
  },
  {
   "cell_type": "code",
   "execution_count": 51,
   "id": "7b52bd1c-77a7-4dad-9f9e-86ce577e0d21",
   "metadata": {},
   "outputs": [
    {
     "data": {
      "text/plain": [
       "'1'"
      ]
     },
     "execution_count": 51,
     "metadata": {},
     "output_type": "execute_result"
    }
   ],
   "source": [
    "str(1)"
   ]
  },
  {
   "cell_type": "code",
   "execution_count": 52,
   "id": "8199dece-456b-45f0-ae94-ecfd62323668",
   "metadata": {},
   "outputs": [],
   "source": [
    "b=str(1)"
   ]
  },
  {
   "cell_type": "code",
   "execution_count": 53,
   "id": "544e5e9b-9a10-4963-815e-c5048d1cb111",
   "metadata": {},
   "outputs": [
    {
     "data": {
      "text/plain": [
       "str"
      ]
     },
     "execution_count": 53,
     "metadata": {},
     "output_type": "execute_result"
    }
   ],
   "source": [
    "type(b)"
   ]
  },
  {
   "cell_type": "code",
   "execution_count": 55,
   "id": "1e13aa7e-7ccb-4d25-8cf3-6aae1ec09615",
   "metadata": {},
   "outputs": [],
   "source": [
    "b=int(b)"
   ]
  },
  {
   "cell_type": "code",
   "execution_count": 56,
   "id": "f8efd4a4-8608-44a4-96bb-1a5d0dd972a3",
   "metadata": {},
   "outputs": [
    {
     "data": {
      "text/plain": [
       "36"
      ]
     },
     "execution_count": 56,
     "metadata": {},
     "output_type": "execute_result"
    }
   ],
   "source": [
    "a+b"
   ]
  },
  {
   "cell_type": "code",
   "execution_count": 57,
   "id": "687ceefc-4f69-4101-9544-b1b8f3adc35e",
   "metadata": {},
   "outputs": [
    {
     "data": {
      "text/plain": [
       "int"
      ]
     },
     "execution_count": 57,
     "metadata": {},
     "output_type": "execute_result"
    }
   ],
   "source": [
    "type(b)"
   ]
  },
  {
   "cell_type": "code",
   "execution_count": 61,
   "id": "db4be193-8b1f-436d-b628-8c329256ff2e",
   "metadata": {},
   "outputs": [],
   "source": [
    "l=[1,354,34.56,\"bhavya\"]\n",
    "# Creating a list variable"
   ]
  },
  {
   "cell_type": "code",
   "execution_count": 62,
   "id": "d779bd18-04cc-44e8-8501-0b5a84e680fc",
   "metadata": {},
   "outputs": [
    {
     "data": {
      "text/plain": [
       "list"
      ]
     },
     "execution_count": 62,
     "metadata": {},
     "output_type": "execute_result"
    }
   ],
   "source": [
    "type(l)"
   ]
  },
  {
   "cell_type": "code",
   "execution_count": 64,
   "id": "4fc80f96-1a44-4ff3-9963-4ec86a37278e",
   "metadata": {},
   "outputs": [
    {
     "data": {
      "text/plain": [
       "1"
      ]
     },
     "execution_count": 64,
     "metadata": {},
     "output_type": "execute_result"
    }
   ],
   "source": [
    "l[0]"
   ]
  },
  {
   "cell_type": "code",
   "execution_count": 66,
   "id": "6eb4eb37-6539-43b6-998d-55dc58975282",
   "metadata": {},
   "outputs": [
    {
     "data": {
      "text/plain": [
       "'bhavya'"
      ]
     },
     "execution_count": 66,
     "metadata": {},
     "output_type": "execute_result"
    }
   ],
   "source": [
    "l[3]"
   ]
  },
  {
   "cell_type": "code",
   "execution_count": 67,
   "id": "94053d8a-eea8-4163-a29c-cda12f47b6a5",
   "metadata": {},
   "outputs": [
    {
     "data": {
      "text/plain": [
       "[1, 354, 34.56, 'bhavya']"
      ]
     },
     "execution_count": 67,
     "metadata": {},
     "output_type": "execute_result"
    }
   ],
   "source": [
    "l"
   ]
  },
  {
   "cell_type": "code",
   "execution_count": 70,
   "id": "2ea3dd00-43ac-4eba-baeb-21549b16e30a",
   "metadata": {},
   "outputs": [
    {
     "data": {
      "text/plain": [
       "[1, 354, 34.56]"
      ]
     },
     "execution_count": 70,
     "metadata": {},
     "output_type": "execute_result"
    }
   ],
   "source": [
    "l[0:3]"
   ]
  },
  {
   "cell_type": "code",
   "execution_count": 71,
   "id": "a32a0eb3-4ef3-49b2-a355-b157625432b8",
   "metadata": {},
   "outputs": [
    {
     "data": {
      "text/plain": [
       "'bhavya'"
      ]
     },
     "execution_count": 71,
     "metadata": {},
     "output_type": "execute_result"
    }
   ],
   "source": [
    "l[-1]"
   ]
  },
  {
   "cell_type": "code",
   "execution_count": 72,
   "id": "74d29a84-1b58-447b-9382-31de7217b159",
   "metadata": {},
   "outputs": [
    {
     "data": {
      "text/plain": [
       "['bhavya', 34.56, 354, 1]"
      ]
     },
     "execution_count": 72,
     "metadata": {},
     "output_type": "execute_result"
    }
   ],
   "source": [
    "l[::-1]"
   ]
  },
  {
   "cell_type": "code",
   "execution_count": 73,
   "id": "95911496-35c4-46e4-82bb-c74b56b96517",
   "metadata": {},
   "outputs": [
    {
     "data": {
      "text/plain": [
       "[1, 34.56]"
      ]
     },
     "execution_count": 73,
     "metadata": {},
     "output_type": "execute_result"
    }
   ],
   "source": [
    "l[::2]"
   ]
  },
  {
   "cell_type": "code",
   "execution_count": 74,
   "id": "3e4e064e-67ef-40b7-a13c-e5d86a30f927",
   "metadata": {},
   "outputs": [],
   "source": [
    "s=\"pwskills\""
   ]
  },
  {
   "cell_type": "code",
   "execution_count": 75,
   "id": "a65c3253-e1f9-41ba-89f5-603990dff924",
   "metadata": {},
   "outputs": [
    {
     "ename": "TypeError",
     "evalue": "can only concatenate list (not \"str\") to list",
     "output_type": "error",
     "traceback": [
      "\u001b[0;31m---------------------------------------------------------------------------\u001b[0m",
      "\u001b[0;31mTypeError\u001b[0m                                 Traceback (most recent call last)",
      "Cell \u001b[0;32mIn[75], line 1\u001b[0m\n\u001b[0;32m----> 1\u001b[0m \u001b[43ml\u001b[49m\u001b[38;5;241;43m+\u001b[39;49m\u001b[43ms\u001b[49m\n",
      "\u001b[0;31mTypeError\u001b[0m: can only concatenate list (not \"str\") to list"
     ]
    }
   ],
   "source": [
    "l+s"
   ]
  },
  {
   "cell_type": "code",
   "execution_count": 76,
   "id": "e25dd117-02cb-478f-adf3-392f54b4979f",
   "metadata": {},
   "outputs": [
    {
     "data": {
      "text/plain": [
       "'bhavyapwskills'"
      ]
     },
     "execution_count": 76,
     "metadata": {},
     "output_type": "execute_result"
    }
   ],
   "source": [
    "l[-1]+s"
   ]
  },
  {
   "cell_type": "code",
   "execution_count": 77,
   "id": "a65a7420-a5b6-4351-9411-737a7ee10146",
   "metadata": {},
   "outputs": [],
   "source": [
    "l=[1,34,\"bhavya\",34.64]"
   ]
  },
  {
   "cell_type": "code",
   "execution_count": 78,
   "id": "d1c8b392-db11-42f3-ab78-9685cea80bcf",
   "metadata": {},
   "outputs": [],
   "source": [
    "s= l[2]"
   ]
  },
  {
   "cell_type": "code",
   "execution_count": 79,
   "id": "60d068b9-66a1-4203-ba1e-aa215d5761ed",
   "metadata": {},
   "outputs": [],
   "source": [
    "s= s[0:2]"
   ]
  },
  {
   "cell_type": "code",
   "execution_count": 80,
   "id": "27f93088-e355-4df2-b8e5-98c0f2ceca43",
   "metadata": {},
   "outputs": [
    {
     "data": {
      "text/plain": [
       "'bh'"
      ]
     },
     "execution_count": 80,
     "metadata": {},
     "output_type": "execute_result"
    }
   ],
   "source": [
    "s"
   ]
  },
  {
   "cell_type": "code",
   "execution_count": 81,
   "id": "7bb21fb5-8def-4c33-a150-9b9648dc70e1",
   "metadata": {},
   "outputs": [],
   "source": [
    "l1=[3,4,5]"
   ]
  },
  {
   "cell_type": "code",
   "execution_count": 82,
   "id": "72ad8c12-68d5-4c77-b9d0-4a881098c46b",
   "metadata": {},
   "outputs": [
    {
     "data": {
      "text/plain": [
       "[1, 34, 'bhavya', 34.64, 3, 4, 5]"
      ]
     },
     "execution_count": 82,
     "metadata": {},
     "output_type": "execute_result"
    }
   ],
   "source": [
    "l+l1"
   ]
  },
  {
   "cell_type": "code",
   "execution_count": 83,
   "id": "df7ad610-0728-4783-9adf-cbae96fd8796",
   "metadata": {},
   "outputs": [
    {
     "data": {
      "text/plain": [
       "[1, 34, 'bhavya', 34.64, 1, 34, 'bhavya', 34.64, 1, 34, 'bhavya', 34.64]"
      ]
     },
     "execution_count": 83,
     "metadata": {},
     "output_type": "execute_result"
    }
   ],
   "source": [
    "l*3"
   ]
  },
  {
   "cell_type": "code",
   "execution_count": 84,
   "id": "4f5351bd-2f8c-479e-b47a-5ad97d6f03f2",
   "metadata": {},
   "outputs": [
    {
     "data": {
      "text/plain": [
       "[3, 4, 5, 3, 4, 5, 3, 4, 5]"
      ]
     },
     "execution_count": 84,
     "metadata": {},
     "output_type": "execute_result"
    }
   ],
   "source": [
    "l1*3"
   ]
  },
  {
   "cell_type": "code",
   "execution_count": 85,
   "id": "c48370a6-dbfd-4805-b8e1-95555d54860b",
   "metadata": {},
   "outputs": [
    {
     "data": {
      "text/plain": [
       "4"
      ]
     },
     "execution_count": 85,
     "metadata": {},
     "output_type": "execute_result"
    }
   ],
   "source": [
    "len(l)"
   ]
  },
  {
   "cell_type": "code",
   "execution_count": 86,
   "id": "be1930de-f6a5-4d31-b578-f4b5c3d989a8",
   "metadata": {},
   "outputs": [],
   "source": [
    "l.append(5)"
   ]
  },
  {
   "cell_type": "code",
   "execution_count": 87,
   "id": "173f3ed7-5041-493f-b9e0-7f4cbe68102e",
   "metadata": {},
   "outputs": [
    {
     "data": {
      "text/plain": [
       "[1, 34, 'bhavya', 34.64, 5]"
      ]
     },
     "execution_count": 87,
     "metadata": {},
     "output_type": "execute_result"
    }
   ],
   "source": [
    "l"
   ]
  },
  {
   "cell_type": "code",
   "execution_count": 88,
   "id": "db20446c-e7be-4724-9ff5-6572a8575927",
   "metadata": {},
   "outputs": [],
   "source": [
    "s=\"pwkills\""
   ]
  },
  {
   "cell_type": "code",
   "execution_count": 89,
   "id": "fbfed3eb-8266-4b4e-932a-c77f82d4cdc9",
   "metadata": {},
   "outputs": [],
   "source": [
    "l.append(s)"
   ]
  },
  {
   "cell_type": "code",
   "execution_count": 90,
   "id": "5da4c6a2-2a70-4442-9208-65cbfe6d954f",
   "metadata": {},
   "outputs": [
    {
     "data": {
      "text/plain": [
       "[1, 34, 'bhavya', 34.64, 5, 'pwkills']"
      ]
     },
     "execution_count": 90,
     "metadata": {},
     "output_type": "execute_result"
    }
   ],
   "source": [
    "l"
   ]
  },
  {
   "cell_type": "code",
   "execution_count": 91,
   "id": "a3a03ba8-e95c-4aa0-a642-ee8f17d9cd04",
   "metadata": {},
   "outputs": [],
   "source": [
    "l.append(l1)"
   ]
  },
  {
   "cell_type": "code",
   "execution_count": 92,
   "id": "ba0473a3-6cdb-4e54-b01c-f6c2e816fafc",
   "metadata": {},
   "outputs": [
    {
     "data": {
      "text/plain": [
       "[1, 34, 'bhavya', 34.64, 5, 'pwkills', [3, 4, 5]]"
      ]
     },
     "execution_count": 92,
     "metadata": {},
     "output_type": "execute_result"
    }
   ],
   "source": [
    "l"
   ]
  },
  {
   "cell_type": "code",
   "execution_count": 93,
   "id": "ed7f9df4-1219-4885-9b29-74b1deb5be61",
   "metadata": {},
   "outputs": [
    {
     "data": {
      "text/plain": [
       "[3, 4, 5]"
      ]
     },
     "execution_count": 93,
     "metadata": {},
     "output_type": "execute_result"
    }
   ],
   "source": [
    "l[-1]"
   ]
  },
  {
   "cell_type": "code",
   "execution_count": 94,
   "id": "a04396b0-2a4f-4595-8282-e66be1e84659",
   "metadata": {},
   "outputs": [
    {
     "data": {
      "text/plain": [
       "4"
      ]
     },
     "execution_count": 94,
     "metadata": {},
     "output_type": "execute_result"
    }
   ],
   "source": [
    "l[-1][1]"
   ]
  },
  {
   "cell_type": "code",
   "execution_count": 95,
   "id": "d19a4f81-0afc-41a2-b01b-e73bf4b38f3a",
   "metadata": {},
   "outputs": [],
   "source": [
    "l=[]\n",
    "s=\"bhavya\""
   ]
  },
  {
   "cell_type": "code",
   "execution_count": 96,
   "id": "a731f6db-887c-4bc6-adb0-2a255b29b0ea",
   "metadata": {},
   "outputs": [],
   "source": [
    "l.extend(s)"
   ]
  },
  {
   "cell_type": "code",
   "execution_count": 97,
   "id": "bb78952d-7dae-4f9c-87a6-17d3d90edf9e",
   "metadata": {},
   "outputs": [
    {
     "data": {
      "text/plain": [
       "['b', 'h', 'a', 'v', 'y', 'a']"
      ]
     },
     "execution_count": 97,
     "metadata": {},
     "output_type": "execute_result"
    }
   ],
   "source": [
    "l"
   ]
  },
  {
   "cell_type": "code",
   "execution_count": 98,
   "id": "2a57cf5d-3777-4b2d-af65-75c245e73bf8",
   "metadata": {},
   "outputs": [],
   "source": [
    "l1=[3,\"bhavya\",4,5]"
   ]
  },
  {
   "cell_type": "code",
   "execution_count": 99,
   "id": "4eb1fe7a-da97-450e-89a6-da317abc3fc7",
   "metadata": {},
   "outputs": [],
   "source": [
    "l1=[3,4,5]"
   ]
  },
  {
   "cell_type": "code",
   "execution_count": 100,
   "id": "5e41cfa0-c015-4735-85e1-e25ae7dcc947",
   "metadata": {},
   "outputs": [],
   "source": [
    "l1.insert(1,s)"
   ]
  },
  {
   "cell_type": "code",
   "execution_count": 101,
   "id": "60d3bef0-c832-4194-ba27-df5c9f9c4442",
   "metadata": {},
   "outputs": [
    {
     "data": {
      "text/plain": [
       "[3, 'bhavya', 4, 5]"
      ]
     },
     "execution_count": 101,
     "metadata": {},
     "output_type": "execute_result"
    }
   ],
   "source": [
    "l1"
   ]
  },
  {
   "cell_type": "code",
   "execution_count": 103,
   "id": "48672aac-e4af-451d-a290-d01834ae244e",
   "metadata": {},
   "outputs": [
    {
     "data": {
      "text/plain": [
       "5"
      ]
     },
     "execution_count": 103,
     "metadata": {},
     "output_type": "execute_result"
    }
   ],
   "source": [
    "l1.pop()"
   ]
  },
  {
   "cell_type": "code",
   "execution_count": 104,
   "id": "23cc8b3c-4512-4843-945c-78c1ae56d17f",
   "metadata": {},
   "outputs": [
    {
     "data": {
      "text/plain": [
       "[3, 'bhavya', 4]"
      ]
     },
     "execution_count": 104,
     "metadata": {},
     "output_type": "execute_result"
    }
   ],
   "source": [
    "l1"
   ]
  },
  {
   "cell_type": "code",
   "execution_count": 105,
   "id": "c8f31125-6435-4086-b76e-4d9bf4fecff2",
   "metadata": {},
   "outputs": [
    {
     "data": {
      "text/plain": [
       "3"
      ]
     },
     "execution_count": 105,
     "metadata": {},
     "output_type": "execute_result"
    }
   ],
   "source": [
    "l1.pop(0)"
   ]
  },
  {
   "cell_type": "code",
   "execution_count": 106,
   "id": "6782596b-5246-499c-9b82-163e32c1c90c",
   "metadata": {},
   "outputs": [
    {
     "data": {
      "text/plain": [
       "['bhavya', 4]"
      ]
     },
     "execution_count": 106,
     "metadata": {},
     "output_type": "execute_result"
    }
   ],
   "source": [
    "l1"
   ]
  },
  {
   "cell_type": "code",
   "execution_count": 107,
   "id": "35679dd0-d824-4cda-852a-60a35285f87c",
   "metadata": {},
   "outputs": [],
   "source": [
    "l1.remove(4)"
   ]
  },
  {
   "cell_type": "code",
   "execution_count": 108,
   "id": "93090edf-873f-4ae2-b5d6-e29bf592950d",
   "metadata": {},
   "outputs": [
    {
     "data": {
      "text/plain": [
       "['bhavya']"
      ]
     },
     "execution_count": 108,
     "metadata": {},
     "output_type": "execute_result"
    }
   ],
   "source": [
    "l1"
   ]
  },
  {
   "cell_type": "code",
   "execution_count": 109,
   "id": "3258c56d-9856-4109-93cf-62072792081f",
   "metadata": {},
   "outputs": [
    {
     "data": {
      "text/plain": [
       "['bhavya', 'b', 'h', 'a', 'v', 'y', 'a']"
      ]
     },
     "execution_count": 109,
     "metadata": {},
     "output_type": "execute_result"
    }
   ],
   "source": [
    "l1+l"
   ]
  },
  {
   "cell_type": "code",
   "execution_count": 115,
   "id": "978f1d5e-f1ea-45ae-8df1-7af0f67000bc",
   "metadata": {},
   "outputs": [],
   "source": [
    "l2=l1+[1,5,10]"
   ]
  },
  {
   "cell_type": "code",
   "execution_count": 116,
   "id": "9e82329c-274f-4410-b894-5d802ce0ed24",
   "metadata": {},
   "outputs": [
    {
     "ename": "NameError",
     "evalue": "name 'bh' is not defined",
     "output_type": "error",
     "traceback": [
      "\u001b[0;31m---------------------------------------------------------------------------\u001b[0m",
      "\u001b[0;31mNameError\u001b[0m                                 Traceback (most recent call last)",
      "Cell \u001b[0;32mIn[116], line 1\u001b[0m\n\u001b[0;32m----> 1\u001b[0m l2\u001b[38;5;241m.\u001b[39mremove(\u001b[43mbh\u001b[49m)\n",
      "\u001b[0;31mNameError\u001b[0m: name 'bh' is not defined"
     ]
    }
   ],
   "source": [
    "l2.remove(bh)"
   ]
  },
  {
   "cell_type": "code",
   "execution_count": 117,
   "id": "8ea63af8-91f4-4b5c-bba7-9ff223fb2b72",
   "metadata": {},
   "outputs": [],
   "source": [
    "l2=[50,65,35,95,88,0,12,5]"
   ]
  },
  {
   "cell_type": "code",
   "execution_count": 118,
   "id": "9f9bb4bc-e835-4537-b8fc-689876c07a2d",
   "metadata": {},
   "outputs": [],
   "source": [
    "l2.sort()"
   ]
  },
  {
   "cell_type": "code",
   "execution_count": 119,
   "id": "b576b174-b39b-43df-b6a3-8e4f6bb650d1",
   "metadata": {},
   "outputs": [
    {
     "data": {
      "text/plain": [
       "[0, 5, 12, 35, 50, 65, 88, 95]"
      ]
     },
     "execution_count": 119,
     "metadata": {},
     "output_type": "execute_result"
    }
   ],
   "source": [
    "l2"
   ]
  },
  {
   "cell_type": "code",
   "execution_count": 120,
   "id": "6d67c617-a255-46ce-9df3-a8b78acfdef5",
   "metadata": {},
   "outputs": [],
   "source": [
    "l2.reverse()"
   ]
  },
  {
   "cell_type": "code",
   "execution_count": 121,
   "id": "7e600f97-a83e-49bb-a890-9dcd9b0f91cc",
   "metadata": {},
   "outputs": [
    {
     "data": {
      "text/plain": [
       "[95, 88, 65, 50, 35, 12, 5, 0]"
      ]
     },
     "execution_count": 121,
     "metadata": {},
     "output_type": "execute_result"
    }
   ],
   "source": [
    "l2"
   ]
  },
  {
   "cell_type": "code",
   "execution_count": 122,
   "id": "2587723f-9634-459e-b2ce-56769a12436b",
   "metadata": {},
   "outputs": [],
   "source": [
    "l2.reverse()"
   ]
  },
  {
   "cell_type": "code",
   "execution_count": 123,
   "id": "4bf8dc46-155b-426d-8a16-4920775e1dc4",
   "metadata": {},
   "outputs": [
    {
     "data": {
      "text/plain": [
       "[0, 5, 12, 35, 50, 65, 88, 95]"
      ]
     },
     "execution_count": 123,
     "metadata": {},
     "output_type": "execute_result"
    }
   ],
   "source": [
    "l2"
   ]
  },
  {
   "cell_type": "code",
   "execution_count": 124,
   "id": "c409e4e8-3f98-4690-97be-f964cc9d5c7f",
   "metadata": {},
   "outputs": [
    {
     "data": {
      "text/plain": [
       "2"
      ]
     },
     "execution_count": 124,
     "metadata": {},
     "output_type": "execute_result"
    }
   ],
   "source": [
    "l2.index(12)"
   ]
  },
  {
   "cell_type": "code",
   "execution_count": 125,
   "id": "84743080-96ac-4f8c-95a9-153486d842f3",
   "metadata": {},
   "outputs": [
    {
     "data": {
      "text/plain": [
       "0"
      ]
     },
     "execution_count": 125,
     "metadata": {},
     "output_type": "execute_result"
    }
   ],
   "source": [
    "l2.count(30)"
   ]
  },
  {
   "cell_type": "code",
   "execution_count": 126,
   "id": "6932ee80-beee-44ff-b87d-827f1c607719",
   "metadata": {},
   "outputs": [
    {
     "data": {
      "text/plain": [
       "1"
      ]
     },
     "execution_count": 126,
     "metadata": {},
     "output_type": "execute_result"
    }
   ],
   "source": [
    "l2.count(50)"
   ]
  },
  {
   "cell_type": "code",
   "execution_count": 127,
   "id": "a517323a-8396-4b52-b78b-ff526bf820c9",
   "metadata": {},
   "outputs": [],
   "source": [
    "s=\"bhavya\""
   ]
  },
  {
   "cell_type": "code",
   "execution_count": 128,
   "id": "15f0af39-02a6-47d6-a80a-175f6513d9bd",
   "metadata": {},
   "outputs": [
    {
     "data": {
      "text/plain": [
       "[0, 5, 12, 35, 50, 65, 88, 95]"
      ]
     },
     "execution_count": 128,
     "metadata": {},
     "output_type": "execute_result"
    }
   ],
   "source": [
    "l2"
   ]
  },
  {
   "cell_type": "code",
   "execution_count": 129,
   "id": "85122308-3295-4f83-ba98-8ddebb9c5acd",
   "metadata": {},
   "outputs": [
    {
     "data": {
      "text/plain": [
       "50"
      ]
     },
     "execution_count": 129,
     "metadata": {},
     "output_type": "execute_result"
    }
   ],
   "source": [
    "l2[4]"
   ]
  },
  {
   "cell_type": "code",
   "execution_count": 130,
   "id": "86a5bd81-5d18-4875-8ee8-8832b416faa3",
   "metadata": {},
   "outputs": [],
   "source": [
    "l2[4]=44"
   ]
  },
  {
   "cell_type": "code",
   "execution_count": 131,
   "id": "e6f9ab34-c194-4fd5-8348-3d842ac86e0d",
   "metadata": {},
   "outputs": [
    {
     "data": {
      "text/plain": [
       "[0, 5, 12, 35, 44, 65, 88, 95]"
      ]
     },
     "execution_count": 131,
     "metadata": {},
     "output_type": "execute_result"
    }
   ],
   "source": [
    "l2"
   ]
  },
  {
   "cell_type": "code",
   "execution_count": 133,
   "id": "8b9a0698-27d6-4b9d-94b0-bf2b1eb2d5bb",
   "metadata": {},
   "outputs": [],
   "source": [
    "t=(2,3,4,\"bhavya\",45.56,False,(45+457j),[3,4,5])"
   ]
  },
  {
   "cell_type": "code",
   "execution_count": 134,
   "id": "f95a2668-eba2-4ef7-9263-58b9de5c6dc8",
   "metadata": {},
   "outputs": [
    {
     "data": {
      "text/plain": [
       "(2, 3, 4, 'bhavya', 45.56, False, (45+457j), [3, 4, 5])"
      ]
     },
     "execution_count": 134,
     "metadata": {},
     "output_type": "execute_result"
    }
   ],
   "source": [
    "t"
   ]
  },
  {
   "cell_type": "code",
   "execution_count": 135,
   "id": "da2330ea-9137-435b-bef1-dc3910c6b44f",
   "metadata": {},
   "outputs": [
    {
     "data": {
      "text/plain": [
       "2"
      ]
     },
     "execution_count": 135,
     "metadata": {},
     "output_type": "execute_result"
    }
   ],
   "source": [
    "t[0]"
   ]
  },
  {
   "cell_type": "code",
   "execution_count": 136,
   "id": "2f3e7c8e-326d-4246-9bbd-0d604973ddd4",
   "metadata": {},
   "outputs": [
    {
     "data": {
      "text/plain": [
       "tuple"
      ]
     },
     "execution_count": 136,
     "metadata": {},
     "output_type": "execute_result"
    }
   ],
   "source": [
    "type(t)"
   ]
  },
  {
   "cell_type": "code",
   "execution_count": 139,
   "id": "d2a7ec90-16f3-42b6-8408-6adf6b785187",
   "metadata": {},
   "outputs": [],
   "source": [
    "t1=list(t)"
   ]
  },
  {
   "cell_type": "code",
   "execution_count": 147,
   "id": "600e71e8-2dc2-4b2e-a739-7a50ee0417ac",
   "metadata": {},
   "outputs": [],
   "source": [
    "s4=[4,6,8,4,9,31,46,8,4,2,6,3,2,4,6]"
   ]
  },
  {
   "cell_type": "code",
   "execution_count": 148,
   "id": "551c947a-2a5a-4e73-8c80-e80e21468099",
   "metadata": {},
   "outputs": [
    {
     "data": {
      "text/plain": [
       "[4, 6, 8, 4, 9, 31, 46, 8, 4, 2, 6, 3, 2, 4, 6]"
      ]
     },
     "execution_count": 148,
     "metadata": {},
     "output_type": "execute_result"
    }
   ],
   "source": [
    "s4"
   ]
  },
  {
   "cell_type": "code",
   "execution_count": 151,
   "id": "719b9769-1f02-4a7f-a00d-ba959ca36b5c",
   "metadata": {},
   "outputs": [],
   "source": [
    "s4=set(s4)"
   ]
  },
  {
   "cell_type": "code",
   "execution_count": 152,
   "id": "7d7b53c0-7937-40d4-be1c-a9545bd1fbd5",
   "metadata": {},
   "outputs": [
    {
     "ename": "TypeError",
     "evalue": "'set' object is not subscriptable",
     "output_type": "error",
     "traceback": [
      "\u001b[0;31m---------------------------------------------------------------------------\u001b[0m",
      "\u001b[0;31mTypeError\u001b[0m                                 Traceback (most recent call last)",
      "Cell \u001b[0;32mIn[152], line 1\u001b[0m\n\u001b[0;32m----> 1\u001b[0m \u001b[43ms4\u001b[49m\u001b[43m[\u001b[49m\u001b[38;5;241;43m0\u001b[39;49m\u001b[43m]\u001b[49m\n",
      "\u001b[0;31mTypeError\u001b[0m: 'set' object is not subscriptable"
     ]
    }
   ],
   "source": [
    "s4[0]"
   ]
  },
  {
   "cell_type": "code",
   "execution_count": 153,
   "id": "53faafac-0f28-4e8d-8208-a573b504f161",
   "metadata": {},
   "outputs": [
    {
     "data": {
      "text/plain": [
       "{2, 3, 4, 6, 8, 9, 31, 46}"
      ]
     },
     "execution_count": 153,
     "metadata": {},
     "output_type": "execute_result"
    }
   ],
   "source": [
    "s4"
   ]
  },
  {
   "cell_type": "code",
   "execution_count": 154,
   "id": "587c1f20-37e0-4d70-8e74-dced6f7002b3",
   "metadata": {},
   "outputs": [],
   "source": [
    "s4.add(5)"
   ]
  },
  {
   "cell_type": "code",
   "execution_count": 155,
   "id": "3d178af9-104e-4e5d-a9f0-4638cd700fbd",
   "metadata": {},
   "outputs": [
    {
     "data": {
      "text/plain": [
       "{2, 3, 4, 5, 6, 8, 9, 31, 46}"
      ]
     },
     "execution_count": 155,
     "metadata": {},
     "output_type": "execute_result"
    }
   ],
   "source": [
    "s4"
   ]
  },
  {
   "cell_type": "code",
   "execution_count": 156,
   "id": "afed628d-1b6f-45cb-9829-307385144f0b",
   "metadata": {},
   "outputs": [],
   "source": [
    "s4.remove(9)"
   ]
  },
  {
   "cell_type": "code",
   "execution_count": 157,
   "id": "5d6a03ac-3ace-43ed-a086-fd783bfa927e",
   "metadata": {},
   "outputs": [
    {
     "data": {
      "text/plain": [
       "{2, 3, 4, 5, 6, 8, 31, 46}"
      ]
     },
     "execution_count": 157,
     "metadata": {},
     "output_type": "execute_result"
    }
   ],
   "source": [
    "s4"
   ]
  },
  {
   "cell_type": "code",
   "execution_count": 1,
   "id": "7bdf0a02-1cbb-4e75-b0c0-d14025bd4fbb",
   "metadata": {},
   "outputs": [],
   "source": [
    "d={}"
   ]
  },
  {
   "cell_type": "code",
   "execution_count": 2,
   "id": "3180afd2-37a1-441c-97e1-e9024cfe75d9",
   "metadata": {},
   "outputs": [
    {
     "data": {
      "text/plain": [
       "dict"
      ]
     },
     "execution_count": 2,
     "metadata": {},
     "output_type": "execute_result"
    }
   ],
   "source": [
    "type(d)"
   ]
  },
  {
   "cell_type": "code",
   "execution_count": 7,
   "id": "6b3aa18e-ef8e-4367-97ff-6189db136286",
   "metadata": {},
   "outputs": [],
   "source": [
    "d1 = {\"Name\":\"Bhavya\",\"Email\":\"bhavyasharma5555@gmail.com\",\"Number\":\"9780574422\"}"
   ]
  },
  {
   "cell_type": "code",
   "execution_count": 8,
   "id": "ab0a1110-347d-43e7-b367-729440f7bdda",
   "metadata": {},
   "outputs": [
    {
     "data": {
      "text/plain": [
       "'Bhavya'"
      ]
     },
     "execution_count": 8,
     "metadata": {},
     "output_type": "execute_result"
    }
   ],
   "source": [
    "d1[\"Name\"]"
   ]
  },
  {
   "cell_type": "code",
   "execution_count": 11,
   "id": "8c1d19c9-7d31-46cd-baca-a16835acfb42",
   "metadata": {},
   "outputs": [
    {
     "ename": "KeyError",
     "evalue": "1",
     "output_type": "error",
     "traceback": [
      "\u001b[0;31m---------------------------------------------------------------------------\u001b[0m",
      "\u001b[0;31mKeyError\u001b[0m                                  Traceback (most recent call last)",
      "Cell \u001b[0;32mIn[11], line 1\u001b[0m\n\u001b[0;32m----> 1\u001b[0m \u001b[43md1\u001b[49m\u001b[43m[\u001b[49m\u001b[38;5;241;43m1\u001b[39;49m\u001b[43m]\u001b[49m\n",
      "\u001b[0;31mKeyError\u001b[0m: 1"
     ]
    }
   ],
   "source": [
    "d1[1]"
   ]
  },
  {
   "cell_type": "code",
   "execution_count": 12,
   "id": "a717673e-8096-40f5-83c7-516a2083f22f",
   "metadata": {},
   "outputs": [],
   "source": [
    "d2={\"School\":\"PWSkills\",\"Course\":[\"Data Science\",\"Web Design\", \"Java with DSA System Design\"]}"
   ]
  },
  {
   "cell_type": "code",
   "execution_count": 16,
   "id": "b098e477-a6ef-4425-a919-75cba4a7c7bd",
   "metadata": {},
   "outputs": [
    {
     "data": {
      "text/plain": [
       "['Data Science', 'Web Design', 'Java with DSA System Design']"
      ]
     },
     "execution_count": 16,
     "metadata": {},
     "output_type": "execute_result"
    }
   ],
   "source": [
    "d2[\"Course\"]"
   ]
  },
  {
   "cell_type": "code",
   "execution_count": 17,
   "id": "082d1320-f838-4512-b507-5490c7a6cd3c",
   "metadata": {},
   "outputs": [
    {
     "data": {
      "text/plain": [
       "'Data Science'"
      ]
     },
     "execution_count": 17,
     "metadata": {},
     "output_type": "execute_result"
    }
   ],
   "source": [
    "d2[\"Course\"][0]"
   ]
  },
  {
   "cell_type": "code",
   "execution_count": 18,
   "id": "0dce2c85-60bb-4c31-af60-95b9dec612c3",
   "metadata": {},
   "outputs": [],
   "source": [
    "d2[\"Mentor\"]=[\"Sudhanshu\",\"Krish\",\"Anurag\",\"Hayder\"]"
   ]
  },
  {
   "cell_type": "code",
   "execution_count": 19,
   "id": "403b3430-fec4-4d87-a4fc-a99baa76048e",
   "metadata": {},
   "outputs": [
    {
     "data": {
      "text/plain": [
       "{'School': 'PWSkills',\n",
       " 'Course': ['Data Science', 'Web Design', 'Java with DSA System Design'],\n",
       " 'Mentor': ['Sudhanshu', 'Krish', 'Anurag', 'Hayder']}"
      ]
     },
     "execution_count": 19,
     "metadata": {},
     "output_type": "execute_result"
    }
   ],
   "source": [
    "d2"
   ]
  },
  {
   "cell_type": "code",
   "execution_count": 21,
   "id": "82d8328d-d85b-4da5-baf1-b946d81f4773",
   "metadata": {},
   "outputs": [],
   "source": [
    "del d2[\"Mentor\"]"
   ]
  },
  {
   "cell_type": "code",
   "execution_count": 22,
   "id": "f27bdee2-a6e3-4e5d-bb9a-f22a032bb827",
   "metadata": {},
   "outputs": [
    {
     "data": {
      "text/plain": [
       "{'School': 'PWSkills',\n",
       " 'Course': ['Data Science', 'Web Design', 'Java with DSA System Design']}"
      ]
     },
     "execution_count": 22,
     "metadata": {},
     "output_type": "execute_result"
    }
   ],
   "source": [
    "d2"
   ]
  },
  {
   "cell_type": "code",
   "execution_count": 23,
   "id": "24b6fb5d-6910-4283-9538-06d69fe9eb3b",
   "metadata": {},
   "outputs": [
    {
     "data": {
      "text/plain": [
       "dict_keys(['School', 'Course'])"
      ]
     },
     "execution_count": 23,
     "metadata": {},
     "output_type": "execute_result"
    }
   ],
   "source": [
    "d2.keys()"
   ]
  },
  {
   "cell_type": "code",
   "execution_count": 25,
   "id": "68eb0355-17e6-4a93-b90d-cefb90421cc3",
   "metadata": {},
   "outputs": [
    {
     "data": {
      "text/plain": [
       "['School', 'Course']"
      ]
     },
     "execution_count": 25,
     "metadata": {},
     "output_type": "execute_result"
    }
   ],
   "source": [
    "list(d2.keys())"
   ]
  },
  {
   "cell_type": "code",
   "execution_count": 26,
   "id": "241b8358-ee59-4ce0-80c6-c0c936f0fa7d",
   "metadata": {},
   "outputs": [
    {
     "data": {
      "text/plain": [
       "dict_values(['PWSkills', ['Data Science', 'Web Design', 'Java with DSA System Design']])"
      ]
     },
     "execution_count": 26,
     "metadata": {},
     "output_type": "execute_result"
    }
   ],
   "source": [
    "d2.values()"
   ]
  },
  {
   "cell_type": "code",
   "execution_count": 27,
   "id": "f996939f-aab1-41f0-a719-b35684be9ae7",
   "metadata": {},
   "outputs": [
    {
     "data": {
      "text/plain": [
       "[('School', 'PWSkills'),\n",
       " ('Course', ['Data Science', 'Web Design', 'Java with DSA System Design'])]"
      ]
     },
     "execution_count": 27,
     "metadata": {},
     "output_type": "execute_result"
    }
   ],
   "source": [
    "list(d2.items())"
   ]
  },
  {
   "cell_type": "code",
   "execution_count": null,
   "id": "f395e5dd-f409-4f10-a45e-585ec2d573d1",
   "metadata": {},
   "outputs": [],
   "source": []
  },
  {
   "cell_type": "code",
   "execution_count": null,
   "id": "1e56061e-8620-4bef-9aa7-fa23d1c7d852",
   "metadata": {},
   "outputs": [],
   "source": []
  },
  {
   "cell_type": "code",
   "execution_count": null,
   "id": "cdd1602e-390c-470a-af11-be3cc9c2ff84",
   "metadata": {},
   "outputs": [],
   "source": []
  }
 ],
 "metadata": {
  "kernelspec": {
   "display_name": "Python 3 (ipykernel)",
   "language": "python",
   "name": "python3"
  },
  "language_info": {
   "codemirror_mode": {
    "name": "ipython",
    "version": 3
   },
   "file_extension": ".py",
   "mimetype": "text/x-python",
   "name": "python",
   "nbconvert_exporter": "python",
   "pygments_lexer": "ipython3",
   "version": "3.10.8"
  }
 },
 "nbformat": 4,
 "nbformat_minor": 5
}
