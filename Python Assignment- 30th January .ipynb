{
 "cells": [
  {
   "cell_type": "code",
   "execution_count": 1,
   "id": "6ad45825-eaed-48ee-b5a3-4440dd733c98",
   "metadata": {},
   "outputs": [],
   "source": [
    "# Write a Program to accept Percentage from the user and display the grade"
   ]
  },
  {
   "cell_type": "code",
   "execution_count": 2,
   "id": "596ec8e9-c49a-465a-8271-4f96a6b7ddbd",
   "metadata": {},
   "outputs": [
    {
     "name": "stdin",
     "output_type": "stream",
     "text": [
      "Enter your percentage 75\n"
     ]
    },
    {
     "name": "stdout",
     "output_type": "stream",
     "text": [
      "C\n"
     ]
    }
   ],
   "source": [
    "percentage= int(input(\"Enter your percentage\"))\n",
    "if percentage>90:\n",
    "    grade= \"A\"\n",
    "elif percentage>80 and percentage<=90:\n",
    "    grade= \"B\"\n",
    "elif percentage>=60 and percentage<=80:\n",
    "    grade=\"C\"\n",
    "elif percentage<60:\n",
    "    grade= \"D\"\n",
    "print(grade)"
   ]
  },
  {
   "cell_type": "code",
   "execution_count": 4,
   "id": "dbfcb7c1-82fa-4006-a1b5-9c18e0d4816c",
   "metadata": {},
   "outputs": [],
   "source": [
    "# Write a Program to accept the cost price of a bike and display the road tax to be paid"
   ]
  },
  {
   "cell_type": "code",
   "execution_count": 6,
   "id": "c6c83268-1b29-4b05-8bb3-94a6e8735a2f",
   "metadata": {},
   "outputs": [
    {
     "name": "stdin",
     "output_type": "stream",
     "text": [
      "Enter the price of the bike: 75000\n"
     ]
    },
    {
     "name": "stdout",
     "output_type": "stream",
     "text": [
      "Your Road Tax will be: 7500.0\n"
     ]
    }
   ],
   "source": [
    "cp= int(input(\"Enter the price of the bike:\"))\n",
    "if cp>100000:\n",
    "    rt= (cp*15)/100\n",
    "elif cp<=100000 and cp>50000:\n",
    "    rt= (cp*10)/100\n",
    "elif cp<=50000:\n",
    "    rt= (cp*5)/100\n",
    "print(\"Your Road Tax will be:\",rt)"
   ]
  },
  {
   "cell_type": "code",
   "execution_count": 7,
   "id": "6b6764b7-8077-4da9-ae04-2a51ff76e3af",
   "metadata": {},
   "outputs": [],
   "source": [
    "# Write a Program to accept the city from the user and display the monuments of that city"
   ]
  },
  {
   "cell_type": "code",
   "execution_count": 15,
   "id": "a48dc3c7-3708-4ca5-a3ce-afea07118ee1",
   "metadata": {},
   "outputs": [
    {
     "name": "stdin",
     "output_type": "stream",
     "text": [
      "Enter the city: agra\n"
     ]
    },
    {
     "name": "stdout",
     "output_type": "stream",
     "text": [
      "The monument of Agra is Taj Mahal\n"
     ]
    }
   ],
   "source": [
    "city= input(\"Enter the city:\")\n",
    "monument=\"\"\n",
    "city= city.title()\n",
    "if city==\"Delhi\":\n",
    "    monument=\"Red Fort\"\n",
    "elif city==\"Agra\":\n",
    "    monument=\"Taj Mahal\"\n",
    "elif city==\"Jaipur\":\n",
    "    monument=\"Jal Mahal\"\n",
    "print(\"The monument of\",city,\"is\",monument)"
   ]
  },
  {
   "cell_type": "code",
   "execution_count": 17,
   "id": "c2abb9ce-e3ac-4738-b23c-f76af3abfad2",
   "metadata": {},
   "outputs": [],
   "source": [
    "#Check how many times a number can be divided by 3 before it is less than or equal to 10"
   ]
  },
  {
   "cell_type": "code",
   "execution_count": 19,
   "id": "cf6c5689-e9db-44e8-83b3-bd4527c27ee2",
   "metadata": {},
   "outputs": [
    {
     "name": "stdin",
     "output_type": "stream",
     "text": [
      "Enter a number divisible by 3: 243\n"
     ]
    },
    {
     "name": "stdout",
     "output_type": "stream",
     "text": [
      "243 can be divided 3 times by 3 before it is less than or equal to 10\n"
     ]
    }
   ],
   "source": [
    "number= int(input(\"Enter a number divisible by 3:\"))\n",
    "n= number\n",
    "counter=0\n",
    "while number>=10:\n",
    "    number= number/3\n",
    "    counter=counter+1\n",
    "print(n,\"can be divided\", counter,\"times by 3 before it is less than or equal to 10\")"
   ]
  },
  {
   "cell_type": "code",
   "execution_count": 2,
   "id": "4a13b326-3c51-4d41-9c91-d72f58f5eb19",
   "metadata": {},
   "outputs": [],
   "source": [
    "# Q5 Why and When we use while loop in Python? Give a detailed description with Python.\n",
    "#Ans. A while loop in Python is used when you want to repeatedly execute a block of code as long as a specific condition is true. The loop continues to run until the condition becomes false. It is helpful when the number of iterations is not known beforehand or when you want to create a loop that keeps executing until a certain condition is met.\"\"\""
   ]
  },
  {
   "cell_type": "code",
   "execution_count": null,
   "id": "78a2e9f6-35f9-408c-968a-5d3276135ba7",
   "metadata": {},
   "outputs": [],
   "source": [
    "# Use Nested While loop to create 3 different patterns"
   ]
  },
  {
   "cell_type": "code",
   "execution_count": 2,
   "id": "99965df8-1a42-4b5b-a4e9-81907da87963",
   "metadata": {},
   "outputs": [
    {
     "name": "stdout",
     "output_type": "stream",
     "text": [
      "1\n",
      "12\n",
      "123\n",
      "1234\n",
      "12345\n",
      "123456\n",
      "1234567\n",
      "12345678\n",
      "123456789\n",
      "12345678910\n"
     ]
    }
   ],
   "source": [
    "i=1\n",
    "while i<=10:\n",
    "    j=1\n",
    "    while j<=i:\n",
    "        print(j, end=\"\")\n",
    "        j=j+1\n",
    "    print()\n",
    "    i=i+1"
   ]
  },
  {
   "cell_type": "code",
   "execution_count": 1,
   "id": "5bf9a9f9-4f47-45d4-a5e4-8dcc345bdf46",
   "metadata": {},
   "outputs": [
    {
     "name": "stdout",
     "output_type": "stream",
     "text": [
      "*\n",
      "**\n",
      "***\n",
      "****\n",
      "*****\n",
      "******\n",
      "*******\n",
      "********\n",
      "*********\n",
      "**********\n",
      "***********\n"
     ]
    }
   ],
   "source": [
    "i=10\n",
    "while i>=0:\n",
    "    j=10\n",
    "    while j>=i:\n",
    "        print(\"*\",end=\"\")\n",
    "        j=j-1\n",
    "    print()\n",
    "    i=i-1\n",
    "    "
   ]
  },
  {
   "cell_type": "code",
   "execution_count": 1,
   "id": "62ef901a-a343-45ae-83e8-567e1c2d4fa5",
   "metadata": {},
   "outputs": [
    {
     "name": "stdout",
     "output_type": "stream",
     "text": [
      "**********\n",
      "*********\n",
      "********\n",
      "*******\n",
      "******\n",
      "*****\n",
      "****\n",
      "***\n",
      "**\n",
      "*\n",
      "\n"
     ]
    }
   ],
   "source": [
    "i=10\n",
    "while i>=0:\n",
    "    j=1\n",
    "    while j<=i:\n",
    "        print(\"*\",end=\"\")\n",
    "        j=j+1\n",
    "    print()\n",
    "    i=i-1"
   ]
  },
  {
   "cell_type": "code",
   "execution_count": 3,
   "id": "4117b8fe-b3db-4832-ba61-a23b5d0918c5",
   "metadata": {},
   "outputs": [
    {
     "name": "stdout",
     "output_type": "stream",
     "text": [
      "*\n",
      "**\n",
      "***\n",
      "****\n",
      "*****\n",
      "******\n",
      "*******\n",
      "********\n",
      "*********\n",
      "**********\n",
      "***********\n",
      "**********\n",
      "*********\n",
      "********\n",
      "*******\n",
      "******\n",
      "*****\n",
      "****\n",
      "***\n",
      "**\n",
      "*\n",
      "\n"
     ]
    }
   ],
   "source": [
    "i=1\n",
    "while i<=10:\n",
    "    j=1\n",
    "    while j<=i:\n",
    "        print(\"*\",end=\"\")\n",
    "        j=j+1\n",
    "    print()\n",
    "    i=i+1\n",
    "while i>=0:\n",
    "    j=1\n",
    "    while j<=i:\n",
    "        print(\"*\",end=\"\")\n",
    "        j=j+1\n",
    "    print()\n",
    "    i=i-1"
   ]
  },
  {
   "cell_type": "code",
   "execution_count": 17,
   "id": "c7d213c4-6a6c-463b-9f75-0976f0fd5d5e",
   "metadata": {},
   "outputs": [
    {
     "name": "stdout",
     "output_type": "stream",
     "text": [
      "10\n",
      "9\n",
      "8\n",
      "7\n",
      "6\n",
      "5\n",
      "4\n",
      "3\n",
      "2\n",
      "1\n"
     ]
    }
   ],
   "source": [
    "i=10\n",
    "while i>0:\n",
    "    print(i)\n",
    "    i=i-1"
   ]
  },
  {
   "cell_type": "code",
   "execution_count": null,
   "id": "84315e6f-fc57-46f1-a309-887829a9c94a",
   "metadata": {},
   "outputs": [],
   "source": []
  }
 ],
 "metadata": {
  "kernelspec": {
   "display_name": "Python 3 (ipykernel)",
   "language": "python",
   "name": "python3"
  },
  "language_info": {
   "codemirror_mode": {
    "name": "ipython",
    "version": 3
   },
   "file_extension": ".py",
   "mimetype": "text/x-python",
   "name": "python",
   "nbconvert_exporter": "python",
   "pygments_lexer": "ipython3",
   "version": "3.10.8"
  }
 },
 "nbformat": 4,
 "nbformat_minor": 5
}
