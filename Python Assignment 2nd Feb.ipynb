{
 "cells": [
  {
   "cell_type": "code",
   "execution_count": 1,
   "id": "c7b4b176-8b1e-4d06-8f0d-5d2af62171cb",
   "metadata": {},
   "outputs": [],
   "source": [
    "# Q1. Explain with an example each when to use a for loop and a while loop"
   ]
  },
  {
   "cell_type": "code",
   "execution_count": 2,
   "id": "5a8501b5-7ce9-448c-a904-373381ae42a8",
   "metadata": {},
   "outputs": [],
   "source": [
    "# For loop is used when we already know the number of iteratons to be executed before hand"
   ]
  },
  {
   "cell_type": "code",
   "execution_count": 3,
   "id": "17ce44c8-0e7d-45cb-94b2-bafd83012c6d",
   "metadata": {},
   "outputs": [
    {
     "name": "stdin",
     "output_type": "stream",
     "text": [
      "Enter the number for which you need a sum of the number and all the natural number before: 5\n"
     ]
    },
    {
     "name": "stdout",
     "output_type": "stream",
     "text": [
      "The sum of all the natural numbers till 5 is 15\n"
     ]
    }
   ],
   "source": [
    "#Using for loop to calculate the sum of 1st n natural numbers\n",
    "\n",
    "n= int(input(\"Enter the number for which you need a sum of the number and all the natural number before:\"))\n",
    "sum=0\n",
    "for i in range(n+1):\n",
    "    sum= sum+i\n",
    "print(\"The sum of all the natural numbers till\",n,\"is\",sum)"
   ]
  },
  {
   "cell_type": "code",
   "execution_count": 4,
   "id": "50de799c-b964-4fe4-b702-4e23934d25e7",
   "metadata": {},
   "outputs": [],
   "source": [
    "# While loop is used when we need to run an iteration up until a partiular condition is true and the number of iterations are unknown"
   ]
  },
  {
   "cell_type": "code",
   "execution_count": 1,
   "id": "827e3168-d4f0-4358-870b-325da4844ca9",
   "metadata": {},
   "outputs": [
    {
     "name": "stdin",
     "output_type": "stream",
     "text": [
      "Enter the number for which you need a sum of the number and all the natural number before: 5\n"
     ]
    },
    {
     "name": "stdout",
     "output_type": "stream",
     "text": [
      "The sum of all the natural numbers till 5 is 15\n"
     ]
    }
   ],
   "source": [
    "#Using while loop to calculate the sum of 1st n natural numbers\n",
    "\n",
    "n= int(input(\"Enter the number for which you need a sum of the number and all the natural number before:\"))\n",
    "sum=0\n",
    "l=0\n",
    "while l<=n:\n",
    "    sum=sum+l\n",
    "    l=l+1\n",
    "print(\"The sum of all the natural numbers till\",n,\"is\",sum)"
   ]
  },
  {
   "cell_type": "code",
   "execution_count": 2,
   "id": "d0430b6d-ec68-40f0-a948-693e58461b80",
   "metadata": {},
   "outputs": [],
   "source": [
    "# Given above are the examples, while using for loop we know that te number of iterations in for loop will be n+1. However, while using while loop we can't be sure of the number of iterations but the loop will run until the condition l<=n becomes true"
   ]
  },
  {
   "cell_type": "code",
   "execution_count": 3,
   "id": "1c6b5e6a-f04d-48a2-941c-7b17a5838773",
   "metadata": {},
   "outputs": [],
   "source": [
    "# Q2.  Write a python program to print the sum and product of the first 10 natural numbers using for and while loop"
   ]
  },
  {
   "cell_type": "code",
   "execution_count": 8,
   "id": "8d20d531-229d-4c24-a395-a5012ae3d39a",
   "metadata": {},
   "outputs": [
    {
     "name": "stdout",
     "output_type": "stream",
     "text": [
      "The sum of all the natural numbers till 10 is 55\n",
      "The sum of all the natural numbers till 10 is 3628800\n"
     ]
    }
   ],
   "source": [
    "#Using for loop to calculate the sum and product of 1st 10 natural numbers\n",
    "\n",
    "n= 10\n",
    "sum=0\n",
    "prod=1\n",
    "for i in range(1,n+1):\n",
    "    sum= sum+i\n",
    "    prod= prod*i\n",
    "print(\"The sum of all the natural numbers till\",n,\"is\",sum)\n",
    "print(\"The sum of all the natural numbers till\",n,\"is\",prod)"
   ]
  },
  {
   "cell_type": "code",
   "execution_count": 10,
   "id": "ba36bc13-4c33-4019-9f29-0f29d48fb9a7",
   "metadata": {},
   "outputs": [
    {
     "name": "stdout",
     "output_type": "stream",
     "text": [
      "The sum of all the natural numbers till 10 is 55\n",
      "The sum of all the natural numbers till 10 is 3628800\n"
     ]
    }
   ],
   "source": [
    "#Using while loop to calculate the sum and product of 1st 10 natural numbers\n",
    "\n",
    "n= 10\n",
    "sum=0\n",
    "prod=1\n",
    "l=1\n",
    "while l<=n:\n",
    "    sum=sum+l\n",
    "    prod=prod*l\n",
    "    l=l+1\n",
    "print(\"The sum of all the natural numbers till\",n,\"is\",sum)\n",
    "print(\"The sum of all the natural numbers till\",n,\"is\",prod)"
   ]
  },
  {
   "cell_type": "code",
   "execution_count": 12,
   "id": "2fd639e9-299e-400e-878c-49b9a06e11fa",
   "metadata": {},
   "outputs": [
    {
     "data": {
      "text/plain": [
       "'Q3. Create a python program to compute the electricity bill for a household.\\nThe per-unit charges in rupees are as follows: For the first 100 units, the user will be charged Rs. 4.5 per unit, for the next 100 units, the user will be charged Rs. 6 per unit, and for the next 100 units, the user will be charged Rs. 10 per unit, After 300 units and above the user will be charged Rs. 20 per unit.\\nYou are required to take the units of electricity consumed in a month from the user as input.\\nYour program must pass this test case: when the unit of electricity consumed by the user in a month is 310, the total electricity bill should be 2250.'"
      ]
     },
     "execution_count": 12,
     "metadata": {},
     "output_type": "execute_result"
    }
   ],
   "source": [
    "\"\"\"Q3. Create a python program to compute the electricity bill for a household.\n",
    "The per-unit charges in rupees are as follows: For the first 100 units, the user will be charged Rs. 4.5 per unit, for the next 100 units, the user will be charged Rs. 6 per unit, and for the next 100 units, the user will be charged Rs. 10 per unit, After 300 units and above the user will be charged Rs. 20 per unit.\n",
    "You are required to take the units of electricity consumed in a month from the user as input.\n",
    "Your program must pass this test case: when the unit of electricity consumed by the user in a month is 310, the total electricity bill should be 2250.\"\"\""
   ]
  },
  {
   "cell_type": "code",
   "execution_count": 13,
   "id": "0ac6fe81-36e3-4d43-a60e-74cbf96afb12",
   "metadata": {},
   "outputs": [
    {
     "name": "stdin",
     "output_type": "stream",
     "text": [
      "Enter the units of electricity consumed in a month 310\n"
     ]
    },
    {
     "name": "stdout",
     "output_type": "stream",
     "text": [
      "The Total Electricity Bill is  2250.0\n"
     ]
    }
   ],
   "source": [
    "consumption= int(input(\"Enter the units of electricity consumed in a month\"))\n",
    "total_bill=0\n",
    "if consumption<=100:\n",
    "    total_bill=100*4.5\n",
    "elif consumption>100 and consumption<=200:\n",
    "    total_bill=(100*4.5)+((consumption-100)*6)\n",
    "elif consumption>200 and consumption<=300:\n",
    "    total_bill=(100*4.5)+(100*6)+((consumption-200)*10)\n",
    "elif consumption>300:\n",
    "    total_bill=(100*4.5)+(100*6)+(100*10)+((consumption-300)*20)\n",
    "print(\"The Total Electricity Bill is \",total_bill)"
   ]
  },
  {
   "cell_type": "code",
   "execution_count": 14,
   "id": "50358f6c-8a0d-4c91-b27f-d45b95b1909f",
   "metadata": {},
   "outputs": [],
   "source": [
    "# Q4.  Create a list of numbers from 1 to 100. Use for loop and while loop to calculate the cube of each number and if the cube of that number is divisible by 4 or 5 then append that number in a list and print that list."
   ]
  },
  {
   "cell_type": "code",
   "execution_count": 15,
   "id": "11b6f5ec-b15e-47b4-a36f-c39430299e79",
   "metadata": {},
   "outputs": [
    {
     "name": "stdout",
     "output_type": "stream",
     "text": [
      "[8, 64, 125, 216, 512, 1000, 1728, 2744, 3375, 4096, 5832, 8000, 10648, 13824, 15625, 17576, 21952, 27000, 32768, 39304, 42875, 46656, 54872, 64000, 74088, 85184, 91125, 97336, 110592, 125000, 140608, 157464, 166375, 175616, 195112, 216000, 238328, 262144, 274625, 287496, 314432, 343000, 373248, 405224, 421875, 438976, 474552, 512000, 551368, 592704, 614125, 636056, 681472, 729000, 778688, 830584, 857375, 884736, 941192, 1000000]\n"
     ]
    }
   ],
   "source": [
    "#Using for loop to solve the question\n",
    "l=[]\n",
    "l1=[]\n",
    "l2=[]\n",
    "for i in range(1,101):\n",
    "    l.append(i)\n",
    "for i in l:\n",
    "    j=i**3\n",
    "    l1.append(j)\n",
    "    if j%4==0 or j%5==0:\n",
    "        l2.append(j)\n",
    "print(l2)"
   ]
  },
  {
   "cell_type": "code",
   "execution_count": 1,
   "id": "8af9cd52-d0f2-4ef0-bb4b-c33d352b491f",
   "metadata": {},
   "outputs": [
    {
     "name": "stdout",
     "output_type": "stream",
     "text": [
      "[8, 64, 125, 216, 512, 1000, 1728, 2744, 3375, 4096, 5832, 8000, 10648, 13824, 15625, 17576, 21952, 27000, 32768, 39304, 42875, 46656, 54872, 64000, 74088, 85184, 91125, 97336, 110592, 125000, 140608, 157464, 166375, 175616, 195112, 216000, 238328, 262144, 274625, 287496, 314432, 343000, 373248, 405224, 421875, 438976, 474552, 512000, 551368, 592704, 614125, 636056, 681472, 729000, 778688, 830584, 857375, 884736, 941192, 1000000]\n"
     ]
    }
   ],
   "source": [
    "#Using while loop to solve the question\n",
    "i=1\n",
    "l=[]\n",
    "l1=[]\n",
    "l2=[]\n",
    "while i<=100:\n",
    "    l.append(i)\n",
    "    i=i+1\n",
    "i=0\n",
    "while i<=99:\n",
    "    j=l[i]**3\n",
    "    l1.append(j)\n",
    "    i=i+1\n",
    "    if j%4==0 or j%5==0:\n",
    "        l2.append(j)\n",
    "print(l2)"
   ]
  },
  {
   "cell_type": "code",
   "execution_count": 2,
   "id": "b821f392-03cd-4c47-b507-0c75cc416e84",
   "metadata": {},
   "outputs": [],
   "source": [
    "#Q5.  Write a program to filter count vowels in the below-given string. string = \"I want to become a data scientist\""
   ]
  },
  {
   "cell_type": "code",
   "execution_count": null,
   "id": "cee517b3-c189-476b-b351-c57832395e94",
   "metadata": {},
   "outputs": [],
   "source": [
    "string= \"I want to become a data scientist\"\n",
    "string.lower()\n",
    "count=0\n",
    "for i in string:\n",
    "    if i==\"a\" or i==\"e\" or i==\"i\" or i==\"o\" or i==\"u\":\n",
    "        count= count+1\n",
    "print(\" The number of vowels in the phrase:\",string,\"are \",count)"
   ]
  },
  {
   "cell_type": "code",
   "execution_count": null,
   "id": "67abfe82-847e-4fdd-a305-268bd03b254c",
   "metadata": {},
   "outputs": [],
   "source": []
  },
  {
   "cell_type": "code",
   "execution_count": null,
   "id": "3956789e-5712-4d14-9cff-6f272ddd28fd",
   "metadata": {},
   "outputs": [],
   "source": []
  },
  {
   "cell_type": "code",
   "execution_count": null,
   "id": "6db6b7fe-947a-4d97-bc18-5d2ebe73c555",
   "metadata": {},
   "outputs": [],
   "source": []
  },
  {
   "cell_type": "code",
   "execution_count": null,
   "id": "19f7de03-6c96-41a0-9fd0-bf3c302bad18",
   "metadata": {},
   "outputs": [],
   "source": []
  },
  {
   "cell_type": "code",
   "execution_count": null,
   "id": "bee632f6-3347-4337-ac41-e5d7e19fc7d8",
   "metadata": {},
   "outputs": [],
   "source": []
  },
  {
   "cell_type": "code",
   "execution_count": null,
   "id": "a942f8ad-85ba-4b19-8956-2395a65ae937",
   "metadata": {},
   "outputs": [],
   "source": []
  }
 ],
 "metadata": {
  "kernelspec": {
   "display_name": "Python 3 (ipykernel)",
   "language": "python",
   "name": "python3"
  },
  "language_info": {
   "codemirror_mode": {
    "name": "ipython",
    "version": 3
   },
   "file_extension": ".py",
   "mimetype": "text/x-python",
   "name": "python",
   "nbconvert_exporter": "python",
   "pygments_lexer": "ipython3",
   "version": "3.10.8"
  }
 },
 "nbformat": 4,
 "nbformat_minor": 5
}
